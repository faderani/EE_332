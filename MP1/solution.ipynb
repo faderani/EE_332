{
 "cells": [
  {
   "cell_type": "code",
   "execution_count": 1,
   "metadata": {},
   "outputs": [],
   "source": [
    "import os\n",
    "import imageio\n",
    "import numpy as np\n",
    "import cv2"
   ]
  },
  {
   "cell_type": "code",
   "execution_count": 17,
   "metadata": {},
   "outputs": [],
   "source": [
    "def load_images(root):\n",
    "    \"\"\"load bmp images from root directory into np arrays\"\"\"\n",
    "    \n",
    "    paths = os.listdir(root)\n",
    "    \n",
    "    \n",
    "    images = []\n",
    "    \n",
    "    for path in paths:\n",
    "        if \"bmp\" not in path.split(\".\")[-1]:\n",
    "            continue\n",
    "        image = imageio.imread(os.path.join(root, path))\n",
    "        images.append(np.array(image, dtype=np.uint8))\n",
    "    \n",
    "    return np.array(images, dtype=object)/255"
   ]
  },
  {
   "cell_type": "code",
   "execution_count": 18,
   "metadata": {},
   "outputs": [],
   "source": [
    "def CCL(imgs):\n",
    "    \"\"\"gets np binary images and applies CCL. Returns labeled_img and number of labels\"\"\"\n",
    "    \n",
    "    \n",
    "    labeled_imgs = []\n",
    "    labels_sets = []\n",
    "    \n",
    "    for img in imgs:\n",
    "        \n",
    "        label_num = 1\n",
    "        labels_set = []\n",
    "        labeled_img = np.zeros(img.shape)\n",
    "        #print(labeled_img.shape)\n",
    "        \n",
    "        \n",
    "        for y in range(0, img.shape[0]):\n",
    "            for x in range(0, img.shape[1]):\n",
    "                if img[y][x] == 1:\n",
    "                    \n",
    "                    left_vote = 0\n",
    "                    up_vote = 0\n",
    "                    \n",
    "                    if y > 1 and labeled_img[y-1][x] != 0:\n",
    "                        up_vote = int(labeled_img[y-1][x])\n",
    "                    if x > 1 and labeled_img[y][x-1] != 0:\n",
    "                        left_vote = int(labeled_img[y][x-1])\n",
    "                    \n",
    "                    \n",
    "                    if left_vote == 0 and up_vote!=0:\n",
    "                        f_vote = up_vote\n",
    "                    elif left_vote != 0 and up_vote==0:\n",
    "                        f_vote = left_vote\n",
    "                    else:\n",
    "                        f_vote = min(left_vote, up_vote)\n",
    "                    \n",
    "                    if f_vote == 0:\n",
    "                        labeled_img[y][x] = label_num\n",
    "                        label_num += 1\n",
    "                    else:\n",
    "                        labeled_img[y][x] = f_vote\n",
    "                    \n",
    "\n",
    "                    if left_vote != 0 and up_vote != 0 and left_vote != up_vote:\n",
    "                        labels_set.append([left_vote, up_vote])\n",
    "        \n",
    "        labels_set = merge_components(labels_set)\n",
    "        \n",
    "        for idx, x in enumerate(labels_set):\n",
    "            for xx in x:\n",
    "                min_val = min(x)\n",
    "                #print(idx, xx)\n",
    "                labeled_img = np.where(labeled_img == xx, idx+1, labeled_img)\n",
    "\n",
    "        \n",
    "        \n",
    "        labeled_imgs.append(labeled_img)\n",
    "        labels_sets.append(labels_set)\n",
    "\n",
    "            \n",
    "            \n",
    "    return labeled_imgs, labels_sets"
   ]
  },
  {
   "cell_type": "code",
   "execution_count": 19,
   "metadata": {},
   "outputs": [],
   "source": [
    "def merge_components(labels_set):\n",
    "    \"\"\"merges two sublists if they have a common element until there is no common elements between sublists\"\"\"\n",
    "    \n",
    "    \n",
    "    result = []\n",
    "    while len(labels_set)>0:\n",
    "\n",
    "        first_element = labels_set[0]\n",
    "        rest = labels_set[1:]\n",
    "        \n",
    "        len_first = -1\n",
    "        while len(first_element)>len_first:\n",
    "            \n",
    "            \n",
    "            len_first = len(first_element)\n",
    "            \n",
    "            rest_2 = []\n",
    "            \n",
    "            for x in rest:\n",
    "                if bool(set(first_element) & set(x)):\n",
    "                    first_element += x\n",
    "                    first_element = list(set(first_element))\n",
    "                else:\n",
    "                    rest_2.append(x)\n",
    "            \n",
    "            rest = rest_2\n",
    "            \n",
    "        result.append(first_element.copy())\n",
    "        labels_set = rest\n",
    "        \n",
    "    return result\n"
   ]
  },
  {
   "cell_type": "code",
   "execution_count": 53,
   "metadata": {},
   "outputs": [],
   "source": [
    "def filter_size(thresh, binary_img):\n",
    "    \"\"\"Removes labels which are smaller than a the threshold size\"\"\"\n",
    "    \n",
    "    #binary_img = np.uint8(img)\n",
    "    for x in np.unique(binary_img):\n",
    "        if x == 0:\n",
    "            continue\n",
    "        indices = np.where(binary_img == x)\n",
    "#         print(indices[0].shape)\n",
    "#         print(indices[1].shape)\n",
    "        if indices[0].shape[0] < thresh:\n",
    "            binary_img[indices] = 0\n",
    "            \n",
    "            \n",
    "    return binary_img"
   ]
  },
  {
   "cell_type": "code",
   "execution_count": 54,
   "metadata": {},
   "outputs": [],
   "source": [
    "def color_mapper(label_num):\n",
    "    \n",
    "    if label_num == 0:\n",
    "        return [122,0,67]\n",
    "    elif label_num == 1:\n",
    "        return [0,0,255]\n",
    "    elif label_num == 2:\n",
    "        return [0,255,0]\n",
    "    elif label_num == 3:\n",
    "        return [255,0,0]\n",
    "    elif label_num == 4:\n",
    "        return [255,255,0]\n",
    "    elif label_num == 5:\n",
    "        return [255,0,255]\n",
    "    elif label_num == 6:\n",
    "        return [56,32,78]\n",
    "    elif label_num == 7:\n",
    "        return [178,54,190]\n",
    "    elif label_num == 8:\n",
    "        return [12,54,122]\n",
    "    elif label_num == 9:\n",
    "        return [178,123,190]\n",
    "    elif label_num == 10:\n",
    "        return [100,23,90]\n",
    "    \n",
    "    "
   ]
  },
  {
   "cell_type": "code",
   "execution_count": 55,
   "metadata": {},
   "outputs": [
    {
     "data": {
      "text/plain": [
       "(3,)"
      ]
     },
     "execution_count": 55,
     "metadata": {},
     "output_type": "execute_result"
    }
   ],
   "source": [
    "imgs = load_images(\"./data\") #loading the images into np arrays\n",
    "imgs.shape"
   ]
  },
  {
   "cell_type": "code",
   "execution_count": 65,
   "metadata": {
    "scrolled": true
   },
   "outputs": [],
   "source": [
    "labeled_imgs, labels_sets = CCL(imgs)\n",
    "\n",
    "for idx, img in enumerate(labeled_imgs):\n",
    "    \n",
    "    binary_img = np.uint8(img)\n",
    "    \n",
    "    if idx == 2: #apply size filtering on the second image\n",
    "        binary_img = filter_size(300 ,binary_img)\n",
    "    \n",
    "    rgb_image = np.zeros((img.shape[0], img.shape[1], 3))\n",
    "    \n",
    "    for x in np.unique(binary_img):\n",
    "        if x == 0:\n",
    "            continue\n",
    "        indices = np.where(binary_img == x)\n",
    "        rgb_image[indices] = color_mapper(x)\n",
    "\n",
    "\n",
    "\n",
    "\n",
    "    cv2.imwrite(\"output/out\" + str(idx) + \".jpg\" , rgb_image)\n"
   ]
  },
  {
   "cell_type": "code",
   "execution_count": null,
   "metadata": {
    "collapsed": true
   },
   "outputs": [],
   "source": []
  },
  {
   "cell_type": "code",
   "execution_count": null,
   "metadata": {},
   "outputs": [],
   "source": []
  }
 ],
 "metadata": {
  "kernelspec": {
   "display_name": "Python 3",
   "language": "python",
   "name": "python3"
  },
  "language_info": {
   "codemirror_mode": {
    "name": "ipython",
    "version": 3
   },
   "file_extension": ".py",
   "mimetype": "text/x-python",
   "name": "python",
   "nbconvert_exporter": "python",
   "pygments_lexer": "ipython3",
   "version": "3.6.9"
  }
 },
 "nbformat": 4,
 "nbformat_minor": 2
}
